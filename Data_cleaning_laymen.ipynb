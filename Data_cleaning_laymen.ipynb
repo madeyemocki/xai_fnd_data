{
  "nbformat": 4,
  "nbformat_minor": 0,
  "metadata": {
    "colab": {
      "provenance": [],
      "authorship_tag": "ABX9TyNv6fLQQCJnnau6JqXodwPy",
      "include_colab_link": true
    },
    "kernelspec": {
      "name": "python3",
      "display_name": "Python 3"
    },
    "language_info": {
      "name": "python"
    }
  },
  "cells": [
    {
      "cell_type": "markdown",
      "metadata": {
        "id": "view-in-github",
        "colab_type": "text"
      },
      "source": [
        "<a href=\"https://colab.research.google.com/github/madeyemocki/xai_fnd_data/blob/main/Data_cleaning_laymen.ipynb\" target=\"_parent\"><img src=\"https://colab.research.google.com/assets/colab-badge.svg\" alt=\"Open In Colab\"/></a>"
      ]
    },
    {
      "cell_type": "code",
      "execution_count": 97,
      "metadata": {
        "id": "Wg84OrxAG9E5"
      },
      "outputs": [],
      "source": [
        "import json\n",
        "import pandas as pd\n",
        "import requests\n",
        "import io\n",
        "from urllib.request import urlopen\n",
        "import json\n",
        "import logging\n",
        "import seaborn as sns\n",
        "import matplotlib.pyplot as plt\n",
        "import numpy as np\n",
        "from pandas.io.json import json_normalize\n",
        "from pprint import pprint\n"
      ]
    },
    {
      "cell_type": "code",
      "source": [
        "# load JSON\n",
        "def load_data(filename):\n",
        "    df = pd.read_json(filename)\n",
        "    data_sorted = df['formAnswers'].apply(pd.Series).join(df[['swymerId', 'workDurationInSeconds']])\n",
        "    return data_sorted.fillna(\"\")"
      ],
      "metadata": {
        "id": "4CHi8_epH3Pt"
      },
      "execution_count": 98,
      "outputs": []
    },
    {
      "cell_type": "code",
      "source": [
        "# from google.colab import files\n",
        "\n",
        "# uploaded = files.upload()\n",
        "#load json files\n",
        "v1_q = load_data('data/answers-v1-basic-group-2-qualification.json')\n",
        "v1_m = load_data('data/answers-v1-basic-group-2-main.json')\n",
        "\n",
        "v2_q = load_data('data/answers-v2-salient-group-2-qualification.json')\n",
        "v2_m = load_data('data/answers-v2-salient-group-2-main.json')\n",
        "\n",
        "#todo v3 and journos"
      ],
      "metadata": {
        "id": "YVTpNpA6HLIF"
      },
      "execution_count": 99,
      "outputs": []
    },
    {
      "cell_type": "code",
      "source": [
        "#convert to pandas data frame\n",
        "df_v1_q = pd.DataFrame(v1_q)\n",
        "df_v1_m = pd.DataFrame(v1_m)\n",
        "\n",
        "df_v2_q = pd.DataFrame(v2_q)\n",
        "df_v2_m = pd.DataFrame(v2_m)"
      ],
      "metadata": {
        "id": "BNahN4ScH9EY"
      },
      "execution_count": 100,
      "outputs": []
    },
    {
      "cell_type": "code",
      "source": [
        "# remove columns from df_XX_q which are redundant or not needed for the analysis\n",
        "reduntant_columns = [\n",
        "  \"METADATA.FEATURE\",\n",
        "  \"METADATA.GROUP\",\n",
        "  \"confirm.0\",\n",
        "]\n",
        "\n",
        "df_v1_q = df_v1_q.drop(columns=reduntant_columns)\n",
        "df_v2_q = df_v2_q.drop(columns=reduntant_columns)\n",
        "\n",
        "# get a list of all column names starting with \"tutorial.\"\n",
        "tutorial_columns = [col for col in df_v1_q.columns if col.startswith(\"tutorial.\")]\n",
        "tutorial_columns.append(\"understand-task\")\n",
        "\n",
        "# remove tutorial columns from both dataframes\n",
        "df_v1_q = df_v1_q.drop(columns=tutorial_columns)\n",
        "df_v1_m = df_v1_m.drop(columns=tutorial_columns)\n",
        "\n",
        "df_v2_q = df_v2_q.drop(columns=tutorial_columns)\n",
        "df_v2_m = df_v2_m.drop(columns=tutorial_columns)\n",
        "\n",
        "# remove \"METADATA.PART\" columns from both dataframes\n",
        "#todo v3\n",
        "df_v1_q = df_v1_q.drop(columns=[\"METADATA.PART\"])\n",
        "df_v1_m = df_v1_m.drop(columns=[\"METADATA.PART\"])\n",
        "\n",
        "df_v2_q = df_v2_q.drop(columns=[\"METADATA.PART\"])\n",
        "df_v2_m = df_v2_m.drop(columns=[\"METADATA.PART\"])"
      ],
      "metadata": {
        "id": "SUOtTDtiICNy"
      },
      "execution_count": 101,
      "outputs": []
    },
    {
      "cell_type": "code",
      "source": [
        "# merge df_v1_q and df_v1_m on swymerId, \n",
        "# only keep rows where aliasId is in both dataframes (inner join)\n",
        "# keep all columns from both and suffix them with .qualification and .main (e.g. for POINTS)\n",
        "df_v1 = pd.merge(df_v1_q, df_v1_m, on='swymerId', how='inner', suffixes=('.qualification', '.main'))"
      ],
      "metadata": {
        "id": "J95zt9eOIZoU"
      },
      "execution_count": 102,
      "outputs": []
    },
    {
      "cell_type": "code",
      "source": [
        "# merge df_v2_q and df_v2_m on swymerId, \n",
        "# only keep rows where aliasId is in both dataframes (inner join)\n",
        "# keep all columns from both and suffix them with .qualification and .main (e.g. for POINTS)\n",
        "df_v2 = pd.merge(df_v2_q, df_v2_m, on='swymerId', how='inner', suffixes=('.qualification', '.main'))"
      ],
      "metadata": {
        "id": "LhlVTZrsIZgT"
      },
      "execution_count": 103,
      "outputs": []
    },
    {
      "cell_type": "code",
      "source": [
        "#todo v3\n",
        "\n",
        "columns = list(df_v1.columns)\n",
        "pprint(columns)"
      ],
      "metadata": {
        "colab": {
          "base_uri": "https://localhost:8080/"
        },
        "id": "AdwcAaNXInOf",
        "outputId": "ece34516-e8ad-4ddb-fe90-968f44b2eb47"
      },
      "execution_count": 104,
      "outputs": [
        {
          "output_type": "stream",
          "name": "stdout",
          "text": [
            "['information-literacy.identify-misinformation',\n",
            " 'information-seeking.sources.online-newspaper',\n",
            " 'expectations.sceptical-about-ai',\n",
            " 'information-seeking.sources.personal-social-networks',\n",
            " 'personal-code',\n",
            " 'information-literacy.efficiently-use-subscribed-and-openaccess',\n",
            " 'information-seeking.purpose.keep-up-to-date',\n",
            " 'POINTS.qualification',\n",
            " 'information-seeking.truthfulness.facebook',\n",
            " 'information-seeking.purpose.general-awareness',\n",
            " 'expectations.benefit-of-doubt',\n",
            " 'expectations.trust-new-tech',\n",
            " 'newsitem.10.rating-before-xai',\n",
            " 'newsitem.10.control-question',\n",
            " 'information-seeking.access.library',\n",
            " 'information-seeking.top-source-seriousness',\n",
            " 'journalist',\n",
            " 'information-seeking.access.personal-purchase',\n",
            " 'newsitem.10.rating-after-xai',\n",
            " 'information-literacy.differentiate-right-and-fake',\n",
            " 'information-seeking.purpose.preparing-research',\n",
            " 'information-literacy.check-reliability',\n",
            " 'information-literacy.plagiarism-and-publication-ethics',\n",
            " 'expectations.rely-on-ai-for-fake-news-detection',\n",
            " 'expectations.trust-ai',\n",
            " 'information-seeking.accessibility-of-information-about-transparency',\n",
            " 'information-seeking.access.google',\n",
            " 'information-seeking.sources.blogs-websites',\n",
            " 'information-seeking.sources.instagram',\n",
            " 'information-seeking.sources.twitter',\n",
            " 'information-seeking.truthfulness.instagram',\n",
            " 'information-seeking.truthfulness.newspaper',\n",
            " 'information-literacy.research-level-skilss',\n",
            " 'information-seeking.access.websites',\n",
            " 'information-seeking.sources.newspaper',\n",
            " 'information-seeking.most-used-sources.0',\n",
            " 'information-literacy.have-it-skills',\n",
            " 'information-seeking.most-used-sources.2',\n",
            " 'information-seeking.most-used-sources.1',\n",
            " 'information-seeking.comprehensive-information',\n",
            " 'information-literacy.identify-authentic-sources',\n",
            " 'information-seeking.truthfulness.online-newspaper',\n",
            " 'information-literacy.access-relevant-literature',\n",
            " 'information-seeking.sources.facebook',\n",
            " 'information-seeking.truthfulness.twitter',\n",
            " 'newsitem.12.rating-after-xai',\n",
            " 'newsitem.12.system-evaluation.xai-features-useful',\n",
            " 'newsitem.12.system-evaluation.understand-what-system-does',\n",
            " 'newsitem.12.system-evaluation.classified-correctly',\n",
            " 'newsitem.12.system-evaluation.explanations-comprehensible-and-help-assess',\n",
            " 'newsitem.12.control-question',\n",
            " 'newsitem.12.system-evaluation.indications-useful',\n",
            " 'newsitem.12.rating-before-xai',\n",
            " 'information-seeking.sources.interview',\n",
            " 'newsitem.10.system-evaluation.understand-what-system-does',\n",
            " 'newsitem.10.system-evaluation.xai-features-useful',\n",
            " 'newsitem.10.system-evaluation.explanations-comprehensible-and-help-assess',\n",
            " 'newsitem.10.system-evaluation.classified-correctly',\n",
            " 'newsitem.10.system-evaluation.indications-useful',\n",
            " 'swymerId',\n",
            " 'workDurationInSeconds.qualification',\n",
            " 'news-dashboard-evaluation.assist-decisions',\n",
            " 'ai-system-evaluation.most-useful-explanation-feature',\n",
            " 'newsitem.7.system-evaluation.understand-what-system-does',\n",
            " 'ai-system-evaluation.easy-to-follow-what-system-does',\n",
            " 'newsitem.11.system-evaluation.classified-correctly',\n",
            " 'ai-system-evaluation.tend-to-trust-system-even-without-knowledge',\n",
            " 'news-dashboard-evaluation.useful-assess-news-articles',\n",
            " 'newsitem.8.system-evaluation.classified-correctly',\n",
            " 'newsitem.11.system-evaluation.explanations-comprehensible-and-help-assess',\n",
            " 'newsitem.8.system-evaluation.explanations-comprehensible-and-help-assess',\n",
            " 'ai-system-evaluation.system-can-efficiently-classify-news-articles',\n",
            " 'ai-system-evaluation.system-able-to-classify-news-articles',\n",
            " 'newsitem.11.system-evaluation.indications-useful',\n",
            " 'newsitem.9.system-evaluation.xai-features-useful',\n",
            " 'news-dashboard-evaluation.useful-explanations-news',\n",
            " 'POINTS.main',\n",
            " 'ai-system-evaluation.tendency-to-trust-system-high',\n",
            " 'newsitem.8.control-question',\n",
            " 'ai-system-evaluation.value-speed-or-comprehensiveness',\n",
            " 'journalist2',\n",
            " 'newsitem.11.rating-before-xai',\n",
            " 'demographics.education',\n",
            " 'newsitem.14.system-evaluation.indications-useful',\n",
            " 'news-dashboard-evaluation.help-detect-fake-news-faster',\n",
            " 'newsitem.7.system-evaluation.explanations-comprehensible-and-help-assess',\n",
            " 'newsitem.8.rating-after-xai',\n",
            " 'ai-system-evaluation.rely-on-ai-system',\n",
            " 'newsitem.14.rating-after-xai',\n",
            " 'newsitem.9.rating-after-xai',\n",
            " 'ai-system-evaluation.sceptical-about-ai-system',\n",
            " 'newsitem.14.control-question',\n",
            " 'newsitem.9.rating-before-xai',\n",
            " 'demographics.age',\n",
            " 'demographics.nationality',\n",
            " 'newsitem.13.system-evaluation.xai-features-useful',\n",
            " 'newsitem.14.system-evaluation.explanations-comprehensible-and-help-assess',\n",
            " 'ai-system-evaluation.system-supports-decision-making',\n",
            " 'news-dashboard-evaluation.comprehensible-explanations-help-assess-news-articles',\n",
            " 'newsitem.11.rating-after-xai',\n",
            " 'newsitem.8.system-evaluation.understand-what-system-does',\n",
            " 'newsitem.13.system-evaluation.understand-what-system-does',\n",
            " 'newsitem.11.control-question',\n",
            " 'newsitem.14.rating-before-xai',\n",
            " 'ai-system-evaluation.trust-new-tech',\n",
            " 'newsitem.9.control-question',\n",
            " 'newsitem.13.system-evaluation.classified-correctly',\n",
            " 'ai-system-evaluation.classification-comprehensible',\n",
            " 'newsitem.13.system-evaluation.indications-useful',\n",
            " 'news-dashboard-evaluation.increase-effectiveness-fake-news-detection',\n",
            " 'newsitem.7.rating-before-xai',\n",
            " 'ai-system-evaluation.criteria-to-judge-reliability',\n",
            " 'ai-system-evaluation.system-able-to-detect-fake-news',\n",
            " 'newsitem.7.system-evaluation.xai-features-useful',\n",
            " 'newsitem.8.system-evaluation.indications-useful',\n",
            " 'ai-system-evaluation.system-can-correctly-classify-news-articles',\n",
            " 'ai-system-evaluation.know-what-will-happen-next-time',\n",
            " 'ai-system-evaluation.system-helpful',\n",
            " 'news-dashboard-evaluation.complicated-explainability-features',\n",
            " 'newsitem.9.system-evaluation.explanations-comprehensible-and-help-assess',\n",
            " 'newsitem.14.system-evaluation.xai-features-useful',\n",
            " 'demographics.income',\n",
            " 'ai-system-evaluation.system-decides-neutral',\n",
            " 'ai-system-evaluation.additional-functionality',\n",
            " 'newsitem.13.system-evaluation.explanations-comprehensible-and-help-assess',\n",
            " 'newsitem.14.system-evaluation.understand-what-system-does',\n",
            " 'demographics.country',\n",
            " 'newsitem.9.system-evaluation.understand-what-system-does',\n",
            " 'demographics.employment',\n",
            " 'METADATA.FEATURE',\n",
            " 'ai-system-evaluation.other-information-wish',\n",
            " 'newsitem.11.system-evaluation.understand-what-system-does',\n",
            " 'newsitem.14.system-evaluation.classified-correctly',\n",
            " 'METADATA.GROUP',\n",
            " 'newsitem.7.system-evaluation.indications-useful',\n",
            " 'news-dashboard-evaluation.long-learning-time-not-worth',\n",
            " 'newsitem.7.system-evaluation.classified-correctly',\n",
            " 'news-dashboard-evaluation.satisfied-with-explanatory-quality',\n",
            " 'ai-system-evaluation.understand-what-system-bases-decision-on',\n",
            " 'newsitem.13.rating-after-xai',\n",
            " 'newsitem.13.control-question',\n",
            " 'newsitem.9.system-evaluation.classified-correctly',\n",
            " 'newsitem.8.system-evaluation.xai-features-useful',\n",
            " 'newsitem.11.system-evaluation.xai-features-useful',\n",
            " 'newsitem.7.control-question',\n",
            " 'news-dashboard-evaluation.comprehensible-useful-metadata',\n",
            " 'demographics.gender',\n",
            " 'newsitem.13.rating-before-xai',\n",
            " 'newsitem.9.system-evaluation.indications-useful',\n",
            " 'ai-system-evaluation.understand-why-system-provided-decision',\n",
            " 'ai-system-evaluation.system-criteria-acceptable',\n",
            " 'newsitem.7.rating-after-xai',\n",
            " 'ai-system-evaluation.benefit-of-doubt',\n",
            " 'newsitem.8.rating-before-xai',\n",
            " 'ai-system-evaluation.system-decides-consistently',\n",
            " 'ai-system-evaluation.everyday-work-helpful',\n",
            " 'ai-system-evaluation.system-has-functionality-for-work',\n",
            " 'ai-system-evaluation.why-not-helpful-for-everyday-work',\n",
            " 'workDurationInSeconds.main']\n"
          ]
        }
      ]
    },
    {
      "cell_type": "code",
      "source": [
        "# order columns alphabetically\n",
        "df_v1 = df_v1.reindex(sorted(df_v1.columns), axis=1)\n",
        "df_v2 = df_v2.reindex(sorted(df_v2.columns), axis=1)\n"
      ],
      "metadata": {
        "id": "B83890neIkWV"
      },
      "execution_count": 105,
      "outputs": []
    },
    {
      "cell_type": "code",
      "source": [
        "# determine which columns only contain values which can be parsed to numbers\n",
        "def is_number(s):\n",
        "    if s == \"\":\n",
        "        return True # empty cells are treated as possible numbers\n",
        "    try:\n",
        "        float(s)\n",
        "        return True\n",
        "    except ValueError:\n",
        "        return False"
      ],
      "metadata": {
        "id": "GdYs-SgNI3DY"
      },
      "execution_count": 106,
      "outputs": []
    },
    {
      "cell_type": "code",
      "source": [
        "# determine which columns only contain values which can be parsed to integers or are empty\n",
        "numeric_columns = df_v1.columns[df_v1.applymap(is_number).all()]\n",
        "\n",
        "# change data type of numeric columns to int\n",
        "df_v1[numeric_columns] = df_v1[numeric_columns].apply(pd.to_numeric, downcast='integer')\n",
        "\n",
        "numeric_columns = df_v2.columns[df_v2.applymap(is_number).all()]\n",
        "df_v2[numeric_columns] = df_v2[numeric_columns].apply(pd.to_numeric, downcast='integer')\n",
        "\n",
        "## auch für strings??"
      ],
      "metadata": {
        "id": "4sCbb_VXI482"
      },
      "execution_count": 107,
      "outputs": []
    },
    {
      "cell_type": "code",
      "source": [
        "#clean if ratings are <0 or >100\n",
        "rating_columns = [col for col in df_v1.columns if \".rating-\" in col]\n",
        "# replace all value in rating columns which are < 0 with 0\n",
        "df_v1[rating_columns] = df_v1[rating_columns].mask(df_v1[rating_columns] < 0, 0)\n",
        "df_v2[rating_columns] = df_v2[rating_columns].mask(df_v2[rating_columns] < 0, 0)\n",
        "\n",
        "# replace all value in rating columns which are > 100 with 100\n",
        "df_v1[rating_columns] = df_v1[rating_columns].mask(df_v1[rating_columns] > 100, 100)\n",
        "df_v2[rating_columns] = df_v2[rating_columns].mask(df_v2[rating_columns] > 100, 100)\n"
      ],
      "metadata": {
        "id": "dxbtNIyOJtDQ"
      },
      "execution_count": 108,
      "outputs": []
    },
    {
      "cell_type": "code",
      "source": [
        "# Check whether the columns \"journalist\" and \"journalist2\" have the value \"yes\n",
        "mask = (df_v1['journalist'] == 'yes') & (df_v1['journalist2'] == 'yes')\n",
        "\n",
        "# Extract the rows that match the condition into a new DataFramedf_v1_cleaned_journos = df_v1[mask].copy()\n",
        "df_v1.drop(df_v1[mask].index, inplace=True)\n",
        "df_v1_cleaned_journos = df_v2[mask].copy()\n",
        "\n",
        "#v2\n",
        "mask = (df_v2['journalist'] == 'yes') & (df_v2['journalist2'] == 'yes')\n",
        "df_v2_cleaned_journos = df_v2[mask].copy()\n",
        "df_v2.drop(df_v2[mask].index, inplace=True)\n",
        "\n",
        "#print(df_v1_cleaned_journos)\n",
        "#print(df_v2_cleaned_journos)\n"
      ],
      "metadata": {
        "colab": {
          "base_uri": "https://localhost:8080/"
        },
        "id": "Wtuil61LMSyO",
        "outputId": "d9adc253-b21d-4967-c5f6-cbfa1d47d49c"
      },
      "execution_count": 109,
      "outputs": [
        {
          "output_type": "stream",
          "name": "stderr",
          "text": [
            "<ipython-input-109-2f0cd1f54f68>:6: UserWarning: Boolean Series key will be reindexed to match DataFrame index.\n",
            "  df_v1_cleaned_journos = df_v2[mask].copy()\n"
          ]
        }
      ]
    },
    {
      "cell_type": "code",
      "source": [
        "#save to excel\n",
        "df_v1.to_csv(\"data/v1_cleaned.csv\", index=False)\n",
        "df_v2.to_csv(\"data/v2_cleaned.csv\", index=False)\n",
        "\n",
        "#journos\n",
        "df_v1_cleaned_journos.to_csv(\"data/v1_cleaned_journos.csv\", index=False)\n",
        "df_v2_cleaned_journos.to_csv(\"data/v2_cleaned_journos.csv\", index=False)"
      ],
      "metadata": {
        "id": "ggJP5yw8Rd9U"
      },
      "execution_count": 110,
      "outputs": []
    },
    {
      "cell_type": "markdown",
      "source": [
        "# Participant stats"
      ],
      "metadata": {
        "id": "rO35RkyoKbQF"
      }
    },
    {
      "cell_type": "code",
      "source": [
        "# participants who did not get 2 points in the qualification shouldn't be considered\n",
        "# merge the two dataframes\n",
        "df_all_versions_cheater = pd.concat([df_v1, df_v2], ignore_index=True)\n",
        "\n",
        "#before cleaning cheater\n",
        "df_all_versions_cheater[\"METADATA.FEATURE\"].value_counts()\n"
      ],
      "metadata": {
        "colab": {
          "base_uri": "https://localhost:8080/"
        },
        "id": "u_fHVTXgKhqH",
        "outputId": "b840909b-99d0-43d5-c7ff-3b50a750bb5d"
      },
      "execution_count": 111,
      "outputs": [
        {
          "output_type": "execute_result",
          "data": {
            "text/plain": [
              "basic      142\n",
              "salient    107\n",
              "Name: METADATA.FEATURE, dtype: int64"
            ]
          },
          "metadata": {},
          "execution_count": 111
        }
      ]
    },
    {
      "cell_type": "code",
      "source": [
        "df_all_versions = df_all_versions_cheater [df_all_versions_cheater ['POINTS.qualification'] == 2]\n",
        "df_all_versions = df_all_versions_cheater [df_all_versions_cheater [\"POINTS.main\"] >= 5]\n",
        "#after cleaning cheater\n",
        "df_all_versions[\"METADATA.FEATURE\"].value_counts()"
      ],
      "metadata": {
        "colab": {
          "base_uri": "https://localhost:8080/"
        },
        "id": "iMz6AXMFLDYH",
        "outputId": "dbbf181a-7cd0-4188-c26f-56755804e100"
      },
      "execution_count": 112,
      "outputs": [
        {
          "output_type": "execute_result",
          "data": {
            "text/plain": [
              "basic      133\n",
              "salient    105\n",
              "Name: METADATA.FEATURE, dtype: int64"
            ]
          },
          "metadata": {},
          "execution_count": 112
        }
      ]
    },
    {
      "cell_type": "code",
      "source": [
        "# Get the column data from both dataframes\n",
        "data_cheater = df_all_versions_cheater[\"METADATA.FEATURE\"]\n",
        "data_all_versions = df_all_versions[\"METADATA.FEATURE\"]\n",
        "\n",
        "# Count the occurrences of each unique value in the column\n",
        "counts_cheater = data_cheater.value_counts()\n",
        "counts_all_versions = data_all_versions.value_counts()\n",
        "\n",
        "# Combine the counts into a single dataframe\n",
        "df_counts = pd.DataFrame({\"All Participants\": counts_cheater, \"Participants that passed the qualification\": counts_all_versions})\n",
        "\n",
        "# Sort the dataframe by the index (unique values in the column)\n",
        "df_counts.sort_index(inplace=True)\n",
        "\n",
        "# Plot the data\n",
        "df_counts.plot(kind=\"bar\", figsize=(10, 6))\n",
        "plt.xlabel(\"METADATA.FEATURE\")\n",
        "plt.ylabel(\"Count\")\n",
        "plt.title(\"Comparison of how many Participants passed the qualification\")\n",
        "plt.legend()\n",
        "plt.show()\n"
      ],
      "metadata": {
        "colab": {
          "base_uri": "https://localhost:8080/",
          "height": 596
        },
        "id": "XN5XLhDEL-gm",
        "outputId": "4b3b9bab-b38b-49bf-b45d-79f749d8e6ea"
      },
      "execution_count": 113,
      "outputs": [
        {
          "output_type": "display_data",
          "data": {
            "text/plain": [
              "<Figure size 1000x600 with 1 Axes>"
            ],
            "image/png": "[encoded data removed]"
          },
          "metadata": {}
        }
      ]
    },
    {
      "cell_type": "code",
      "source": [
        "\n"
      ],
      "metadata": {
        "id": "DbMkkf9-MIdl"
      },
      "execution_count": 113,
      "outputs": []
    }
  ]
}